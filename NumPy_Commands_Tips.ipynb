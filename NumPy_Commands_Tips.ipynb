{
 "cells": [
  {
   "cell_type": "code",
   "execution_count": 2,
   "metadata": {
    "collapsed": true
   },
   "outputs": [],
   "source": [
    "import numpy as np"
   ]
  },
  {
   "cell_type": "code",
   "execution_count": 23,
   "metadata": {
    "collapsed": false
   },
   "outputs": [],
   "source": [
    "#class definition (class can contains any type of data)\n",
    "# creating Customer class\n",
    "\n",
    "class Customer (object):\n",
    "    \"A customer in a bank have a checking account (w/ depositi(), withdraw() , etc. functionality)\"\n",
    "    def __init__(self, name, balance=0.0, AccNum=\"0000\"):\n",
    "        self.name = name\n",
    "        self.AccNum = AccNum\n",
    "        self.balance= balance\n",
    "    \n",
    "    def set_account_number(self, n):\n",
    "        self.AccNum = n\n",
    "        return (self)\n",
    "    \n",
    "    def get_account_number(self):\n",
    "        #print multiple variable \n",
    "        print \"Account Number for '%s', is '%s'\" %(self.name, self.AccNum)\n",
    "        return(self.AccNum)\n",
    "    \n",
    "    def withdraw(self, amount):\n",
    "        if amount > self.balance:\n",
    "            raise RuntimeError(\"Amount Greater than the balance!\")\n",
    "        self.balance -= amount\n",
    "        print \"Withdrawn $%s from Account: %s\", (self.balance, self.AccNum)\n",
    "        return self.balance\n",
    "    \n",
    "    def deposit(self, amount):\n",
    "        self.balance += amount\n",
    "        print \"Deposited $%s to Account\"\n",
    "        return"
   ]
  },
  {
   "cell_type": "code",
   "execution_count": 25,
   "metadata": {
    "collapsed": false
   },
   "outputs": [],
   "source": [
    "#create an object\n",
    "c1 = Customer(\"ali\", 200)\n",
    "c2 = Customer(\"mohd\", 300, \"1003-5343\")"
   ]
  },
  {
   "cell_type": "code",
   "execution_count": 30,
   "metadata": {
    "collapsed": false,
    "scrolled": true
   },
   "outputs": [
    {
     "name": "stdout",
     "output_type": "stream",
     "text": [
      "Account Number for ali, is 0000\n"
     ]
    },
    {
     "data": {
      "text/plain": [
       "'0000'"
      ]
     },
     "execution_count": 30,
     "metadata": {},
     "output_type": "execute_result"
    }
   ],
   "source": [
    "c1.get_account_number()"
   ]
  },
  {
   "cell_type": "code",
   "execution_count": 27,
   "metadata": {
    "collapsed": false
   },
   "outputs": [
    {
     "name": "stdout",
     "output_type": "stream",
     "text": [
      "Account Number for mohd, is 1003-5343\n"
     ]
    },
    {
     "data": {
      "text/plain": [
       "'1003-5343'"
      ]
     },
     "execution_count": 27,
     "metadata": {},
     "output_type": "execute_result"
    }
   ],
   "source": [
    "c2.get_account_number()"
   ]
  },
  {
   "cell_type": "code",
   "execution_count": 45,
   "metadata": {
    "collapsed": false
   },
   "outputs": [
    {
     "name": "stdout",
     "output_type": "stream",
     "text": [
      "Car name: 'Benz', model: s300\n",
      "Car sounds:\n",
      "RUMmmmm\n",
      "(Make, Model)= ('Kia','12Dx'), Sound: ZZZZZZ\n",
      "4\n"
     ]
    }
   ],
   "source": [
    "#creat another class called \"Car\"\n",
    "class car(object):\n",
    "    \n",
    "    \n",
    "    def __init__(self, make, model, sound=\"RUMmmmm\"):\n",
    "        self.make = make\n",
    "        self.model = model\n",
    "        self.sound = sound\n",
    "    \n",
    "    def make_car_sound(self):\n",
    "        print self.sound;\n",
    "    \n",
    "    #having \n",
    "    @staticmethod\n",
    "    def number_wheels():\n",
    "        print \"4\"\n",
    "    \n",
    "mustang = car(make=\"Benz\", model=\"s300\")\n",
    "kia = car(make=\"Kia\", model= \"12Dx\", sound= \"ZZZZZZ\")\n",
    "#print \"Number of wheels %s \" %(mustang.wheel)\n",
    "print \"Car name: '%s', model: %s\" %(mustang.make, mustang.model)\n",
    "print \"Car sounds:\"\n",
    "mustang.make_car_sound()\n",
    "print \"(Make, Model)= ('%s','%s'), Sound: %s\" %(kia.make, kia.model, kia.sound)\n",
    "mustang.number_wheels()"
   ]
  },
  {
   "cell_type": "code",
   "execution_count": null,
   "metadata": {
    "collapsed": true
   },
   "outputs": [],
   "source": []
  }
 ],
 "metadata": {
  "kernelspec": {
   "display_name": "Python 2",
   "language": "python",
   "name": "python2"
  },
  "language_info": {
   "codemirror_mode": {
    "name": "ipython",
    "version": 2
   },
   "file_extension": ".py",
   "mimetype": "text/x-python",
   "name": "python",
   "nbconvert_exporter": "python",
   "pygments_lexer": "ipython2",
   "version": "2.7.6"
  }
 },
 "nbformat": 4,
 "nbformat_minor": 0
}
